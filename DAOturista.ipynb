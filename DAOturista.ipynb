{
 "cells": [
  {
   "cell_type": "code",
   "execution_count": 12,
   "metadata": {},
   "outputs": [
    {
     "name": "stdout",
     "output_type": "stream",
     "text": [
      "Listo\n"
     ]
    }
   ],
   "source": [
    "from turista import turista_for_dao\n",
    "from DAO import TuristaDAO\n",
    "print(\"Listo\")"
   ]
  },
  {
   "cell_type": "code",
   "execution_count": 14,
   "metadata": {},
   "outputs": [
    {
     "name": "stdout",
     "output_type": "stream",
     "text": [
      "Comentario añadido al lugar con ID 1.\n",
      "Turista con ID 10 creado y comentario añadido al lugar con ID 1.\n"
     ]
    }
   ],
   "source": [
    "#id, nombre, apellido, provincia, comentario, id_lugar\n",
    "turista_for_dao.crear_turista(10, \"Daniel\", \"Robbins\", \"Cordoba\", \"Tremendo lugar\", 1)"
   ]
  },
  {
   "cell_type": "code",
   "execution_count": 17,
   "metadata": {},
   "outputs": [
    {
     "name": "stdout",
     "output_type": "stream",
     "text": [
      "{'_id': 1, 'nombre': 'Gabriel', 'apellido': 'Fonzalida', 'provincia': 'Nonogasta', 'comentario': 'Hermoso lugar'}\n",
      "{'_id': 2, 'nombre': 'Alex', 'apellido': 'Rearte', 'provincia': 'Nonogasta', 'comentario': 'Hermoso lugar'}\n",
      "{'_id': 4, 'nombre': 'Daniel', 'apellido': 'Perez', 'provincia': 'Vichigasta', 'comentario': 'lindo lugar, pero no tan lindo'}\n",
      "{'_id': 5, 'nombre': 'Lucas', 'apellido': 'Rearte', 'provincia': 'Nonogasta', 'comentario': 'bellisimo lugar'}\n",
      "{'_id': 6, 'nombre': 'Gaston', 'apellido': 'Perez', 'provincia': 'Tilimuqui', 'comentario': 'Esta bueno el lugar pero le faltan cosas'}\n",
      "{'_id': ObjectId('671ce30f3b1765daba718734'), 'ID': 1, 'Nombre': 'Nombre Anonimo', 'Apellido': 'Apellido Anonimo', 'Provincia': 'Provincia Desconocida', 'Comentario': 'Sin Comentario', 'fecha_hora': datetime.datetime(2024, 10, 26, 9, 39, 43, 644000)}\n",
      "{'_id': ObjectId('671ce332deadbfe60cbfd602'), 'ID': 2, 'Nombre': 'Nombre Anonimo', 'Apellido': 'Apellido Anonimo', 'Provincia': 'Provincia Desconocida', 'Comentario': 'Sin Comentario', 'fecha_hora': datetime.datetime(2024, 10, 26, 9, 40, 18, 677000)}\n",
      "{'_id': ObjectId('671ce46425f9e2c2dff5d7af'), 'ID': 3, 'Nombre': 'Nombre Anonimo', 'Apellido': 'Apellido Anonimo', 'Provincia': 'Provincia Desconocida', 'Comentario': 'Sin Comentario', 'fecha_hora': datetime.datetime(2024, 10, 26, 9, 45, 24, 535000)}\n",
      "{'_id': ObjectId('671ce645eb8358fca67ddd38'), 'ID': 4, 'Nombre': 'Nombre Anonimo', 'Apellido': 'Apellido Anonimo', 'Provincia': 'Provincia Desconocida', 'Comentario': 'Sin Comentario', 'fecha_hora': datetime.datetime(2024, 10, 26, 9, 53, 25, 114000)}\n",
      "{'_id': ObjectId('671ce6eec6b7f1b2da423a3b'), 'ID': 5, 'Nombre': 'Nombre Anonimo', 'Apellido': 'Apellido Anonimo', 'Provincia': 'Provincia Desconocida', 'Comentario': 'Sin Comentario', 'fecha_hora': datetime.datetime(2024, 10, 26, 9, 56, 14, 904000)}\n",
      "{'_id': ObjectId('671cfb002e841b7dfe8fde50'), 'ID': 6, 'Nombre': 'Nombre Anonimo', 'Apellido': 'Apellido Anonimo', 'Provincia': 'Provincia Desconocida', 'Comentario': 'Sin Comentario', 'fecha_hora': datetime.datetime(2024, 10, 26, 11, 21, 52, 400000)}\n",
      "{'_id': ObjectId('671cfb24d47dfdaaf142eae0'), 'ID': 7, 'Nombre': 'Nombre Anonimo', 'Apellido': 'Apellido Anonimo', 'Provincia': 'Provincia Desconocida', 'Comentario': 'Sin Comentario', 'fecha_hora': datetime.datetime(2024, 10, 26, 11, 22, 28, 990000)}\n",
      "{'_id': ObjectId('671cff543f5df1a6621383bd'), 'ID': 8, 'Nombre': 'Nombre Anonimo', 'Apellido': 'Apellido Anonimo', 'Provincia': 'Provincia Desconocida', 'Comentario': 'Sin Comentario', 'fecha_hora': datetime.datetime(2024, 10, 26, 11, 40, 20, 731000)}\n",
      "{'_id': 10, 'nombre': 'Daniel', 'apellido': 'Robbins', 'provincia': 'Cordoba', 'comentario': 'Que lugar Culiau'}\n"
     ]
    }
   ],
   "source": [
    "turista_for_dao.obtener_todos_los_turistas()"
   ]
  },
  {
   "cell_type": "code",
   "execution_count": null,
   "metadata": {},
   "outputs": [],
   "source": [
    "turista_for_dao.eliminar_turista_por_id(3)"
   ]
  },
  {
   "cell_type": "code",
   "execution_count": 16,
   "metadata": {},
   "outputs": [
    {
     "name": "stdout",
     "output_type": "stream",
     "text": [
      "Turista con ID 10 modificado en la colección de turistas.\n",
      "Comentario del turista con ID 10 modificado en la colección de lugares.\n"
     ]
    }
   ],
   "source": [
    "turista_for_dao.modificar_turista_y_comentario_en_lugar(10, \"Daniel\", \"Robbins\", \"Cordoba\", \"Que lugar Culiau\")"
   ]
  },
  {
   "cell_type": "code",
   "execution_count": 10,
   "metadata": {},
   "outputs": [
    {
     "name": "stdout",
     "output_type": "stream",
     "text": [
      "Total de turistas en Nonogasta: 3\n"
     ]
    }
   ],
   "source": [
    "turista_for_dao.contar_turistas_por_provincia(\"Nonogasta\")"
   ]
  },
  {
   "cell_type": "code",
   "execution_count": 11,
   "metadata": {},
   "outputs": [
    {
     "name": "stdout",
     "output_type": "stream",
     "text": [
      "{'_id': 1, 'nombre': 'Gabriel', 'apellido': 'Fonzalida', 'provincia': 'Nonogasta', 'comentario': 'Hermoso lugar'}\n"
     ]
    }
   ],
   "source": [
    "turista_for_dao.obtener_turistas_por_nombre_y_provincia(\"Gabriel\", \"Nonogasta\")"
   ]
  },
  {
   "cell_type": "code",
   "execution_count": null,
   "metadata": {},
   "outputs": [],
   "source": [
    "turista_for_dao.obtener_turista_por_apellido(\"Rearte\")"
   ]
  },
  {
   "cell_type": "code",
   "execution_count": null,
   "metadata": {},
   "outputs": [],
   "source": [
    "turista_for_dao.obtener_turista_por_nombre(\"Pedro\")"
   ]
  },
  {
   "cell_type": "code",
   "execution_count": null,
   "metadata": {},
   "outputs": [],
   "source": [
    "turista_for_dao.obtener_turista_por_id(4)"
   ]
  }
 ],
 "metadata": {
  "kernelspec": {
   "display_name": "Python 3",
   "language": "python",
   "name": "python3"
  },
  "language_info": {
   "codemirror_mode": {
    "name": "ipython",
    "version": 3
   },
   "file_extension": ".py",
   "mimetype": "text/x-python",
   "name": "python",
   "nbconvert_exporter": "python",
   "pygments_lexer": "ipython3",
   "version": "3.12.5"
  }
 },
 "nbformat": 4,
 "nbformat_minor": 2
}
