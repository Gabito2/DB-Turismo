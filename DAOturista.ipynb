{
 "cells": [
  {
   "cell_type": "code",
   "execution_count": 22,
   "metadata": {},
   "outputs": [
    {
     "name": "stdout",
     "output_type": "stream",
     "text": [
      "todo joya\n"
     ]
    }
   ],
   "source": [
    "from DAO import TuristaDAO\n",
    "from turista import turista_for_dao\n",
    "print(\"todo joya\")"
   ]
  },
  {
   "cell_type": "code",
   "execution_count": 23,
   "metadata": {},
   "outputs": [],
   "source": [
    "turista_for_dao.crear_turista(2, \"Alex\", \"Rearte\", \"La Rioja\", \"No tiene\")"
   ]
  },
  {
   "cell_type": "code",
   "execution_count": 24,
   "metadata": {},
   "outputs": [
    {
     "name": "stdout",
     "output_type": "stream",
     "text": [
      "{'_id': 1, 'nombre': 'Gabriel', 'apellido': 'Rearte', 'provincia': 'La Rioja', 'comentario': 'None'}\n",
      "{'_id': 2, 'nombre': 'Alex', 'apellido': 'Rearte', 'provincia': 'La Rioja', 'comentario': 'No tiene'}\n"
     ]
    }
   ],
   "source": [
    "turista_for_dao.obtener_todos_los_turistas()"
   ]
  },
  {
   "cell_type": "code",
   "execution_count": 25,
   "metadata": {},
   "outputs": [
    {
     "name": "stdout",
     "output_type": "stream",
     "text": [
      "{'_id': 1, 'nombre': 'Gabriel', 'apellido': 'Rearte', 'provincia': 'La Rioja', 'comentario': 'None'}\n",
      "{'_id': 2, 'nombre': 'Alex', 'apellido': 'Rearte', 'provincia': 'La Rioja', 'comentario': 'No tiene'}\n"
     ]
    }
   ],
   "source": [
    "turista_for_dao.obtener_turista_por_apellido(\"Rearte\")"
   ]
  },
  {
   "cell_type": "code",
   "execution_count": 26,
   "metadata": {},
   "outputs": [
    {
     "name": "stdout",
     "output_type": "stream",
     "text": [
      "{'_id': 2, 'nombre': 'Alex', 'apellido': 'Rearte', 'provincia': 'La Rioja', 'comentario': 'No tiene'}\n"
     ]
    }
   ],
   "source": [
    "turista_for_dao.obtener_turista_por_nombre(\"Alex\")"
   ]
  },
  {
   "cell_type": "code",
   "execution_count": 27,
   "metadata": {},
   "outputs": [
    {
     "name": "stdout",
     "output_type": "stream",
     "text": [
      "{'_id': 2, 'nombre': 'Alex', 'apellido': 'Rearte', 'provincia': 'La Rioja', 'comentario': 'No tiene'}\n"
     ]
    }
   ],
   "source": [
    "turista_for_dao.obtener_turistas_por_comentarios(\"No tiene\")"
   ]
  },
  {
   "cell_type": "code",
   "execution_count": 28,
   "metadata": {},
   "outputs": [
    {
     "name": "stdout",
     "output_type": "stream",
     "text": [
      "{'_id': 1, 'nombre': 'Gabriel', 'apellido': 'Rearte', 'provincia': 'La Rioja', 'comentario': 'None'}\n",
      "{'_id': 2, 'nombre': 'Alex', 'apellido': 'Rearte', 'provincia': 'La Rioja', 'comentario': 'No tiene'}\n"
     ]
    }
   ],
   "source": [
    "turista_for_dao.obtener_turistas_por_provincia(\"La Rioja\")"
   ]
  },
  {
   "cell_type": "code",
   "execution_count": 29,
   "metadata": {},
   "outputs": [
    {
     "name": "stdout",
     "output_type": "stream",
     "text": [
      "{'_id': 1, 'nombre': 'Gabriel', 'apellido': 'Rearte', 'provincia': 'La Rioja', 'comentario': 'None'}\n"
     ]
    }
   ],
   "source": [
    "turista_for_dao.obtener_turista_por_id(1)"
   ]
  }
 ],
 "metadata": {
  "kernelspec": {
   "display_name": "Python 3",
   "language": "python",
   "name": "python3"
  },
  "language_info": {
   "codemirror_mode": {
    "name": "ipython",
    "version": 3
   },
   "file_extension": ".py",
   "mimetype": "text/x-python",
   "name": "python",
   "nbconvert_exporter": "python",
   "pygments_lexer": "ipython3",
   "version": "3.12.5"
  }
 },
 "nbformat": 4,
 "nbformat_minor": 2
}
