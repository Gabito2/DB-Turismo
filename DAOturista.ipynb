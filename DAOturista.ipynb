{
 "cells": [
  {
   "cell_type": "code",
   "execution_count": 3,
   "metadata": {},
   "outputs": [
    {
     "name": "stdout",
     "output_type": "stream",
     "text": [
      "todo joya\n"
     ]
    }
   ],
   "source": [
    "from turista import turista_for_dao\n",
    "from DAO import TuristaDAO\n",
    "print(\"todo joya\")"
   ]
  },
  {
   "cell_type": "code",
   "execution_count": 21,
   "metadata": {},
   "outputs": [
    {
     "name": "stdout",
     "output_type": "stream",
     "text": [
      "Comentario añadido al lugar con ID 1.\n",
      "Turista con ID 2 creado y comentario añadido al lugar con ID 1.\n"
     ]
    }
   ],
   "source": [
    "#id, nombre, apellido, provincia, comentario, id_lugar\n",
    "turista_for_dao.crear_turista(2, \"Alex\", \"Rearte\", \"Nonogasta\", \"Hermoso lugar\", 1)"
   ]
  },
  {
   "cell_type": "code",
   "execution_count": 22,
   "metadata": {},
   "outputs": [
    {
     "name": "stdout",
     "output_type": "stream",
     "text": [
      "{'_id': 3, 'nombre': 'Pedro', 'apellido': 'Fonzalida', 'provincia': 'Chilecito', 'comentario': 'Horrible lugar'}\n",
      "{'_id': 1, 'nombre': 'Gabriel', 'apellido': 'Fonzalida', 'provincia': 'Nonogasta', 'comentario': 'Hermoso lugar'}\n",
      "{'_id': 2, 'nombre': 'Alex', 'apellido': 'Rearte', 'provincia': 'Nonogasta', 'comentario': 'Hermoso lugar'}\n"
     ]
    }
   ],
   "source": [
    "turista_for_dao.obtener_todos_los_turistas()"
   ]
  },
  {
   "cell_type": "code",
   "execution_count": 15,
   "metadata": {},
   "outputs": [
    {
     "name": "stdout",
     "output_type": "stream",
     "text": [
      "Turista con ID 3 eliminado.\n"
     ]
    }
   ],
   "source": [
    "turista_for_dao.eliminar_turista_por_id(3)"
   ]
  },
  {
   "cell_type": "code",
   "execution_count": null,
   "metadata": {},
   "outputs": [],
   "source": [
    "turista_for_dao.contar_turistas_por_provincia(\"La Rioja\")"
   ]
  },
  {
   "cell_type": "code",
   "execution_count": null,
   "metadata": {},
   "outputs": [],
   "source": [
    "turista_for_dao.obtener_turistas_por_nombre_y_provincia(\"Walter\", \"La Rioja\")"
   ]
  },
  {
   "cell_type": "code",
   "execution_count": null,
   "metadata": {},
   "outputs": [],
   "source": [
    "turista_for_dao.obtener_turista_por_apellido(\"Suarez\")"
   ]
  },
  {
   "cell_type": "code",
   "execution_count": null,
   "metadata": {},
   "outputs": [],
   "source": [
    "turista_for_dao.obtener_turista_por_nombre(\"Alex\")"
   ]
  },
  {
   "cell_type": "code",
   "execution_count": null,
   "metadata": {},
   "outputs": [],
   "source": [
    "turista_for_dao.obtener_turistas_por_comentarios(\"falta sombra\")"
   ]
  },
  {
   "cell_type": "code",
   "execution_count": 16,
   "metadata": {},
   "outputs": [],
   "source": [
    "turista_for_dao.obtener_turistas_por_provincia(\"La Rioja\")"
   ]
  },
  {
   "cell_type": "code",
   "execution_count": null,
   "metadata": {},
   "outputs": [],
   "source": [
    "turista_for_dao.obtener_turista_por_id(4)"
   ]
  }
 ],
 "metadata": {
  "kernelspec": {
   "display_name": "Python 3",
   "language": "python",
   "name": "python3"
  },
  "language_info": {
   "codemirror_mode": {
    "name": "ipython",
    "version": 3
   },
   "file_extension": ".py",
   "mimetype": "text/x-python",
   "name": "python",
   "nbconvert_exporter": "python",
   "pygments_lexer": "ipython3",
   "version": "3.12.5"
  }
 },
 "nbformat": 4,
 "nbformat_minor": 2
}
