{
 "cells": [
  {
   "cell_type": "code",
   "execution_count": 60,
   "metadata": {},
   "outputs": [
    {
     "name": "stdout",
     "output_type": "stream",
     "text": [
      "todo joya\n"
     ]
    }
   ],
   "source": [
    "from DAO import TuristaDAO\n",
    "print(\"todo joya\")"
   ]
  },
  {
   "cell_type": "code",
   "execution_count": 71,
   "metadata": {},
   "outputs": [
    {
     "ename": "AttributeError",
     "evalue": "module 'modelado.turista' has no attribute 'obtener_turista_por_nombre'",
     "output_type": "error",
     "traceback": [
      "\u001b[1;31m---------------------------------------------------------------------------\u001b[0m",
      "\u001b[1;31mAttributeError\u001b[0m                            Traceback (most recent call last)",
      "Cell \u001b[1;32mIn[71], line 2\u001b[0m\n\u001b[0;32m      1\u001b[0m turista_dao \u001b[38;5;241m=\u001b[39m TuristaDAO()\n\u001b[1;32m----> 2\u001b[0m datos \u001b[38;5;241m=\u001b[39m \u001b[43mturista_dao\u001b[49m\u001b[38;5;241;43m.\u001b[39;49m\u001b[43mget_turistas\u001b[49m\u001b[43m(\u001b[49m\u001b[43mnombre\u001b[49m\u001b[38;5;241;43m=\u001b[39;49m\u001b[38;5;124;43m\"\u001b[39;49m\u001b[38;5;124;43mGabriel\u001b[39;49m\u001b[38;5;124;43m\"\u001b[39;49m\u001b[43m)\u001b[49m\n\u001b[0;32m      3\u001b[0m \u001b[38;5;28mprint\u001b[39m(datos)\n",
      "File \u001b[1;32mc:\\Users\\reart\\Desktop\\UNdeC\\3º año\\Primer Cuatrimestre\\Base de Datos II\\Proyecto Turismo\\DAO.py:23\u001b[0m, in \u001b[0;36mTuristaDAO.get_turistas\u001b[1;34m(self, id, nombre, apellido, provincia, comentario)\u001b[0m\n\u001b[0;32m     21\u001b[0m     \u001b[38;5;28;01mreturn\u001b[39;00m turista\u001b[38;5;241m.\u001b[39mobtener_turistas_por_provincia(provincia\u001b[38;5;241m=\u001b[39mprovincia)\n\u001b[0;32m     22\u001b[0m \u001b[38;5;28;01melif\u001b[39;00m nombre \u001b[38;5;129;01mis\u001b[39;00m \u001b[38;5;129;01mnot\u001b[39;00m \u001b[38;5;28;01mNone\u001b[39;00m:\n\u001b[1;32m---> 23\u001b[0m     \u001b[38;5;28;01mreturn\u001b[39;00m \u001b[43mturista\u001b[49m\u001b[38;5;241;43m.\u001b[39;49m\u001b[43mobtener_turista_por_nombre\u001b[49m(nombre\u001b[38;5;241m=\u001b[39mnombre)\n\u001b[0;32m     24\u001b[0m \u001b[38;5;28;01melif\u001b[39;00m apellido \u001b[38;5;129;01mis\u001b[39;00m \u001b[38;5;129;01mnot\u001b[39;00m \u001b[38;5;28;01mNone\u001b[39;00m:\n\u001b[0;32m     25\u001b[0m     \u001b[38;5;28;01mreturn\u001b[39;00m turista\u001b[38;5;241m.\u001b[39mobtener_turista_por_apellido(apellido\u001b[38;5;241m=\u001b[39mapellido)\n",
      "\u001b[1;31mAttributeError\u001b[0m: module 'modelado.turista' has no attribute 'obtener_turista_por_nombre'"
     ]
    }
   ],
   "source": [
    "turista_dao = TuristaDAO()\n",
    "datos = turista_dao.get_turistas(nombre=\"Gabriel\")\n",
    "print(datos)"
   ]
  }
 ],
 "metadata": {
  "kernelspec": {
   "display_name": "Python 3",
   "language": "python",
   "name": "python3"
  },
  "language_info": {
   "codemirror_mode": {
    "name": "ipython",
    "version": 3
   },
   "file_extension": ".py",
   "mimetype": "text/x-python",
   "name": "python",
   "nbconvert_exporter": "python",
   "pygments_lexer": "ipython3",
   "version": "3.12.5"
  }
 },
 "nbformat": 4,
 "nbformat_minor": 2
}
