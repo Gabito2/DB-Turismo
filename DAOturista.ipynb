{
 "cells": [
  {
   "cell_type": "code",
   "execution_count": 5,
   "metadata": {},
   "outputs": [
    {
     "name": "stdout",
     "output_type": "stream",
     "text": [
      "todo joya\n"
     ]
    }
   ],
   "source": [
    "from DAO import TuristaDAO\n",
    "from turista import turista_for_dao\n",
    "print(\"todo joya\")"
   ]
  },
  {
   "cell_type": "code",
   "execution_count": 23,
   "metadata": {},
   "outputs": [],
   "source": [
    "#parametros\n",
    "#id, nombre, apellido, provincia, comentario\n",
    "turista_for_dao.crear_turista(2, \"Alex\", \"Rearte\", \"La Rioja\", [1, \"falta sombra\"])"
   ]
  },
  {
   "cell_type": "code",
   "execution_count": 24,
   "metadata": {},
   "outputs": [
    {
     "name": "stdout",
     "output_type": "stream",
     "text": [
      "{'_id': 1, 'nombre': 'Gabriel', 'apellido': 'Rearte', 'provincia': 'La Rioja', 'comentario': {'lugar_id': 1, 'texto': 'Hermoso lugar'}}\n",
      "{'_id': 2, 'nombre': 'Alex', 'apellido': 'Rearte', 'provincia': 'La Rioja', 'comentario': [1, 'falta sombra']}\n"
     ]
    }
   ],
   "source": [
    "turista_for_dao.obtener_todos_los_turistas()"
   ]
  },
  {
   "cell_type": "code",
   "execution_count": 13,
   "metadata": {},
   "outputs": [],
   "source": [
    "turista_for_dao.obtener_turista_por_apellido(\"Sommerville\")"
   ]
  },
  {
   "cell_type": "code",
   "execution_count": 14,
   "metadata": {},
   "outputs": [],
   "source": [
    "turista_for_dao.obtener_turista_por_nombre(\"Alex\")"
   ]
  },
  {
   "cell_type": "code",
   "execution_count": 15,
   "metadata": {},
   "outputs": [],
   "source": [
    "turista_for_dao.obtener_turistas_por_comentarios(\"No tiene\")"
   ]
  },
  {
   "cell_type": "code",
   "execution_count": 16,
   "metadata": {},
   "outputs": [],
   "source": [
    "turista_for_dao.obtener_turistas_por_provincia(\"La Rioja\")"
   ]
  },
  {
   "cell_type": "code",
   "execution_count": 17,
   "metadata": {},
   "outputs": [],
   "source": [
    "turista_for_dao.obtener_turista_por_id(1)"
   ]
  }
 ],
 "metadata": {
  "kernelspec": {
   "display_name": "Python 3",
   "language": "python",
   "name": "python3"
  },
  "language_info": {
   "codemirror_mode": {
    "name": "ipython",
    "version": 3
   },
   "file_extension": ".py",
   "mimetype": "text/x-python",
   "name": "python",
   "nbconvert_exporter": "python",
   "pygments_lexer": "ipython3",
   "version": "3.12.5"
  }
 },
 "nbformat": 4,
 "nbformat_minor": 2
}
