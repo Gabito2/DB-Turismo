{
 "cells": [
  {
   "cell_type": "code",
   "execution_count": 1,
   "metadata": {},
   "outputs": [
    {
     "name": "stdout",
     "output_type": "stream",
     "text": [
      "todo joya\n"
     ]
    }
   ],
   "source": [
    "from modelado import turista\n",
    "import DAO\n",
    "print(\"todo joya\")"
   ]
  },
  {
   "cell_type": "code",
   "execution_count": 8,
   "metadata": {},
   "outputs": [
    {
     "data": {
      "text/plain": [
       "<Turista: Turista object>"
      ]
     },
     "execution_count": 8,
     "metadata": {},
     "output_type": "execute_result"
    }
   ],
   "source": [
    "turista_dao = turista.TuristaDAO()\n",
    "turista_dao.crear_turista(1, \"Gabriel\", \"Rearte\", \"La Rioja\", \"None\")"
   ]
  },
  {
   "cell_type": "code",
   "execution_count": 20,
   "metadata": {},
   "outputs": [
    {
     "name": "stdout",
     "output_type": "stream",
     "text": [
      "Turista object\n"
     ]
    }
   ],
   "source": [
    "turista = turista_dao.obtener_turista_por_id(1)\n",
    "print(turista)"
   ]
  },
  {
   "cell_type": "code",
   "execution_count": 12,
   "metadata": {},
   "outputs": [
    {
     "name": "stdout",
     "output_type": "stream",
     "text": [
      "Turista object\n"
     ]
    }
   ],
   "source": [
    "turista_dao = turista.TuristaDAO()\n",
    "datos = turista_dao.obtener_turista_por_id(1)\n",
    "print(datos)"
   ]
  }
 ],
 "metadata": {
  "kernelspec": {
   "display_name": "Python 3",
   "language": "python",
   "name": "python3"
  },
  "language_info": {
   "codemirror_mode": {
    "name": "ipython",
    "version": 3
   },
   "file_extension": ".py",
   "mimetype": "text/x-python",
   "name": "python",
   "nbconvert_exporter": "python",
   "pygments_lexer": "ipython3",
   "version": "3.12.5"
  }
 },
 "nbformat": 4,
 "nbformat_minor": 2
}
