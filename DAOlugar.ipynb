{
 "cells": [
  {
   "cell_type": "code",
   "execution_count": 1,
   "metadata": {},
   "outputs": [
    {
     "name": "stdout",
     "output_type": "stream",
     "text": [
      "joya\n"
     ]
    }
   ],
   "source": [
    "from lugaresTuristicos import lugares_for_dao\n",
    "from DAO import TuristaDAO\n",
    "print(\"joya\")"
   ]
  },
  {
   "cell_type": "code",
   "execution_count": 3,
   "metadata": {},
   "outputs": [
    {
     "name": "stdout",
     "output_type": "stream",
     "text": [
      "Lugar creado\n"
     ]
    }
   ],
   "source": [
    "#parametros de lugar\n",
    "#id, nombre, ubicacion, descripción, horario, comentarios[]\n",
    "lugares_for_dao.crear_lugar(4, \"Castro y Bazan\", \"Chilecito\", \"Donde vive el de Chamical\", \"Abierto todo el dia\", [1, \"Que feo lugar, esta lleno de pozos\"])"
   ]
  },
  {
   "cell_type": "code",
   "execution_count": 6,
   "metadata": {},
   "outputs": [
    {
     "name": "stdout",
     "output_type": "stream",
     "text": [
      "{'_id': 1, 'nombre': 'Cristo', 'ubicacion': 'La Rioja', 'comentarios': [{'turista_id': 1, 'texto': 'Hermoso lugar'}]}\n",
      "{'_id': 2, 'nombre': 'Estacion', 'ubicacion': 'Chilecito', 'descripción': 'Cable Carril', 'horario': 'Abierto todo el dia', 'comentarios': [1, 'Bonito lugar']}\n",
      "{'_id': 3, 'nombre': 'Casino', 'ubicacion': 'Chilecito', 'descripción': 'Casinito', 'horario': 'Abierto todo el dia', 'comentarios': [1, 'Bonito lugar']}\n",
      "{'_id': 4, 'nombre': 'Castro y Bazan', 'ubicacion': 'Chilecito', 'descripción': 'Donde vive el de Chamical', 'horario': 'Abierto todo el dia', 'comentarios': [1, 'Que feo lugar, esta lleno de pozos']}\n"
     ]
    }
   ],
   "source": [
    "lugares_for_dao.obtener_todos_los_lugares()"
   ]
  },
  {
   "cell_type": "code",
   "execution_count": 5,
   "metadata": {},
   "outputs": [
    {
     "name": "stdout",
     "output_type": "stream",
     "text": [
      "{'_id': 4, 'nombre': 'Castro y Bazan', 'ubicacion': 'Chilecito', 'descripción': 'Donde vive el de Chamical', 'horario': 'Abierto todo el dia', 'comentarios': [1, 'Que feo lugar, esta lleno de pozos']}\n"
     ]
    }
   ],
   "source": [
    "lugares_for_dao.obtener_lugar_por_nombre(\"Castro y Bazan\")"
   ]
  },
  {
   "cell_type": "code",
   "execution_count": 7,
   "metadata": {},
   "outputs": [
    {
     "name": "stdout",
     "output_type": "stream",
     "text": [
      "{'_id': 2, 'nombre': 'Estacion', 'ubicacion': 'Chilecito', 'descripción': 'Cable Carril', 'horario': 'Abierto todo el dia', 'comentarios': [1, 'Bonito lugar']}\n",
      "{'_id': 3, 'nombre': 'Casino', 'ubicacion': 'Chilecito', 'descripción': 'Casinito', 'horario': 'Abierto todo el dia', 'comentarios': [1, 'Bonito lugar']}\n",
      "{'_id': 4, 'nombre': 'Castro y Bazan', 'ubicacion': 'Chilecito', 'descripción': 'Donde vive el de Chamical', 'horario': 'Abierto todo el dia', 'comentarios': [1, 'Que feo lugar, esta lleno de pozos']}\n"
     ]
    }
   ],
   "source": [
    "lugares_for_dao.obtener_lugar_por_ubicacion(\"Chilecito\")"
   ]
  },
  {
   "cell_type": "code",
   "execution_count": 3,
   "metadata": {},
   "outputs": [
    {
     "name": "stdout",
     "output_type": "stream",
     "text": [
      "{'_id': 3, 'nombre': 'Casino', 'ubicacion': 'Chilecito', 'descripción': 'Casinito', 'horario': 'Abierto todo el dia', 'comentarios': [1, 'Bonito lugar']}\n"
     ]
    }
   ],
   "source": [
    "lugares_for_dao.obtener_lugar_por_descripción(\"Casinito\")"
   ]
  }
 ],
 "metadata": {
  "kernelspec": {
   "display_name": "Python 3",
   "language": "python",
   "name": "python3"
  },
  "language_info": {
   "codemirror_mode": {
    "name": "ipython",
    "version": 3
   },
   "file_extension": ".py",
   "mimetype": "text/x-python",
   "name": "python",
   "nbconvert_exporter": "python",
   "pygments_lexer": "ipython3",
   "version": "3.12.5"
  }
 },
 "nbformat": 4,
 "nbformat_minor": 2
}
