{
 "cells": [
  {
   "cell_type": "code",
   "execution_count": null,
   "metadata": {},
   "outputs": [],
   "source": [
    "from lugaresTuristicos import lugares_for_dao\n",
    "from DAO import TuristaDAO\n",
    "print(\"joya\")"
   ]
  },
  {
   "cell_type": "code",
   "execution_count": null,
   "metadata": {},
   "outputs": [],
   "source": [
    "#parametros de lugar\n",
    "#id, nombre, ubicacion, descripción, horario, comentarios[]\n",
    "lugares_for_dao.crear_lugar(4, \"Castro y Bazan\", \"Chilecito\", \"Donde vive el de Chamical\", \"Abierto todo el dia\", [1, \"Que feo lugar, esta lleno de pozos\"])"
   ]
  },
  {
   "cell_type": "code",
   "execution_count": 1,
   "metadata": {},
   "outputs": [
    {
     "ename": "NameError",
     "evalue": "name 'lugares_for_dao' is not defined",
     "output_type": "error",
     "traceback": [
      "\u001b[1;31m---------------------------------------------------------------------------\u001b[0m",
      "\u001b[1;31mNameError\u001b[0m                                 Traceback (most recent call last)",
      "Cell \u001b[1;32mIn[1], line 1\u001b[0m\n\u001b[1;32m----> 1\u001b[0m \u001b[43mlugares_for_dao\u001b[49m\u001b[38;5;241m.\u001b[39mobtener_todos_los_lugares()\n",
      "\u001b[1;31mNameError\u001b[0m: name 'lugares_for_dao' is not defined"
     ]
    }
   ],
   "source": [
    "lugares_for_dao.obtener_todos_los_lugares()"
   ]
  },
  {
   "cell_type": "code",
   "execution_count": null,
   "metadata": {},
   "outputs": [],
   "source": [
    "lugares = TuristaDAO()\n",
    "lugares.get_lugares(None, None, \"Chilecito\", None, None, None)"
   ]
  },
  {
   "cell_type": "code",
   "execution_count": 2,
   "metadata": {},
   "outputs": [
    {
     "ename": "NameError",
     "evalue": "name 'lugares_for_dao' is not defined",
     "output_type": "error",
     "traceback": [
      "\u001b[1;31m---------------------------------------------------------------------------\u001b[0m",
      "\u001b[1;31mNameError\u001b[0m                                 Traceback (most recent call last)",
      "Cell \u001b[1;32mIn[2], line 1\u001b[0m\n\u001b[1;32m----> 1\u001b[0m \u001b[43mlugares_for_dao\u001b[49m\u001b[38;5;241m.\u001b[39mobtener_lugar_por_nombre(\u001b[38;5;124m\"\u001b[39m\u001b[38;5;124mCristo\u001b[39m\u001b[38;5;124m\"\u001b[39m)\n",
      "\u001b[1;31mNameError\u001b[0m: name 'lugares_for_dao' is not defined"
     ]
    }
   ],
   "source": [
    "lugares_for_dao.obtener_lugar_por_nombre(\"Cristo\")"
   ]
  },
  {
   "cell_type": "code",
   "execution_count": null,
   "metadata": {},
   "outputs": [],
   "source": [
    "lugares_for_dao.obtener_lugar_por_ubicacion(\"Chilecito\")"
   ]
  },
  {
   "cell_type": "code",
   "execution_count": null,
   "metadata": {},
   "outputs": [],
   "source": [
    "lugares_for_dao.obtener_lugar_por_descripción(\"Casinito\")"
   ]
  },
  {
   "cell_type": "code",
   "execution_count": 7,
   "metadata": {},
   "outputs": [],
   "source": [
    "lugares_for_dao.obtener_lugar_por_visitas(1)"
   ]
  },
  {
   "cell_type": "code",
   "execution_count": null,
   "metadata": {},
   "outputs": [],
   "source": [
    "lugares_for_dao.obtener_lugar_por_id(4)"
   ]
  }
 ],
 "metadata": {
  "kernelspec": {
   "display_name": "Python 3",
   "language": "python",
   "name": "python3"
  },
  "language_info": {
   "codemirror_mode": {
    "name": "ipython",
    "version": 3
   },
   "file_extension": ".py",
   "mimetype": "text/x-python",
   "name": "python",
   "nbconvert_exporter": "python",
   "pygments_lexer": "ipython3",
   "version": "3.12.5"
  }
 },
 "nbformat": 4,
 "nbformat_minor": 2
}
