{
 "cells": [
  {
   "cell_type": "code",
   "execution_count": 1,
   "metadata": {},
   "outputs": [
    {
     "name": "stderr",
     "output_type": "stream",
     "text": [
      "c:\\Users\\reart\\AppData\\Local\\Programs\\Python\\Python312\\Lib\\site-packages\\tqdm\\auto.py:21: TqdmWarning: IProgress not found. Please update jupyter and ipywidgets. See https://ipywidgets.readthedocs.io/en/stable/user_install.html\n",
      "  from .autonotebook import tqdm as notebook_tqdm\n"
     ]
    },
    {
     "name": "stdout",
     "output_type": "stream",
     "text": [
      "Listo\n"
     ]
    }
   ],
   "source": [
    "from lugaresTuristicos import lugares_for_dao\n",
    "from DAO import TuristaDAO\n",
    "print(\"Listo\")"
   ]
  },
  {
   "cell_type": "code",
   "execution_count": 14,
   "metadata": {},
   "outputs": [
    {
     "name": "stdout",
     "output_type": "stream",
     "text": [
      "Lugar creado\n"
     ]
    }
   ],
   "source": [
    "#id, nombre, ubicacion, descripción, horario, comentarios[], visitas\n",
    "lugares_for_dao.crear_lugar(2, \"Cristo de Portezuelo\", \"Chilecito\", \"Estatua del Cristo\", \"Abierto a todo el publico\", [], 23)"
   ]
  },
  {
   "cell_type": "code",
   "execution_count": 5,
   "metadata": {},
   "outputs": [
    {
     "name": "stdout",
     "output_type": "stream",
     "text": [
      "{'_id': 1, 'nombre': 'Estación 2', 'ubicacion': 'Chilecito', 'descripción': 'Cable Carril', 'horario': 'Abierto a todo el publico', 'comentarios': [{'turista_id': 3, 'texto': 'Horrible lugar'}, {'turista_id': 2, 'texto': 'Hermoso lugar'}, {'turista_id': 4, 'texto': 'lindo lugar, pero no tan lindo'}, {'turista_id': 5, 'texto': 'bellisimo lugar'}, {'turista_id': 10, 'texto': 'Tremendo lugar'}], 'visitas': 2}\n",
      "{'_id': 2, 'nombre': 'Cristo de Portezuelo', 'ubicacion': 'Chilecito', 'descripción': 'Estatua del Cristo', 'horario': 'Abierto a todo el publico', 'comentarios': [{'turista_id': 1, 'texto': 'Hermoso lugar'}], 'visitas': 23}\n",
      "{'_id': 3, 'nombre': 'La Plaza', 'ubicacion': 'Chilecito', 'descripción': 'Plaza Central de Chilecito', 'horario': 'Abierto a todo el publico', 'comentarios': [{'turista_id': 6, 'texto': 'Esta bueno el lugar pero le faltan cosas'}], 'visitas': 132}\n"
     ]
    }
   ],
   "source": [
    "lugares_for_dao.obtener_todos_los_lugares()"
   ]
  },
  {
   "cell_type": "code",
   "execution_count": 6,
   "metadata": {},
   "outputs": [
    {
     "name": "stdout",
     "output_type": "stream",
     "text": [
      "{'_id': 3, 'nombre': 'La Plaza', 'ubicacion': 'Chilecito', 'descripción': 'Plaza Central de Chilecito', 'horario': 'Abierto a todo el publico', 'comentarios': [{'turista_id': 6, 'texto': 'Esta bueno el lugar pero le faltan cosas'}], 'visitas': 132}\n",
      "None\n"
     ]
    }
   ],
   "source": [
    "TuristaDAO.get_lugares(None, \"La Plaza\", None, None, None, None)"
   ]
  },
  {
   "cell_type": "code",
   "execution_count": 6,
   "metadata": {},
   "outputs": [
    {
     "name": "stdout",
     "output_type": "stream",
     "text": [
      "Comentario: 'Horrible lugar' - Sentimiento (Transformers): 1 star\n",
      "Comentario: 'Hermoso lugar' - Sentimiento (Transformers): 5 stars\n",
      "Comentario: 'lindo lugar, pero no tan lindo' - Sentimiento (Transformers): 3 stars\n",
      "Comentario: 'bellisimo lugar' - Sentimiento (Transformers): 5 stars\n",
      "Comentario: 'Que lugar Culiau' - Sentimiento (Transformers): 1 star\n"
     ]
    }
   ],
   "source": [
    "lugares_for_dao.obtener_Estrellas_Comentarios(1)"
   ]
  },
  {
   "cell_type": "code",
   "execution_count": 7,
   "metadata": {},
   "outputs": [
    {
     "name": "stdout",
     "output_type": "stream",
     "text": [
      "Lugar con ID 2 eliminado.\n"
     ]
    }
   ],
   "source": [
    "lugares_for_dao.Eliminar_Lugar_por_id(2)"
   ]
  },
  {
   "cell_type": "code",
   "execution_count": 8,
   "metadata": {},
   "outputs": [
    {
     "name": "stdout",
     "output_type": "stream",
     "text": [
      "{'_id': 2, 'nombre': 'Cristo de Portezuelo', 'ubicacion': 'Chilecito', 'descripción': 'Estatua del Cristo', 'horario': 'Abierto a todo el publico', 'comentarios': [{'turista_id': 1, 'texto': 'Hermoso lugar'}], 'visitas': 23}\n",
      "{'_id': 3, 'nombre': 'La Plaza', 'ubicacion': 'Chilecito', 'descripción': 'Plaza Central de Chilecito', 'horario': 'Abierto a todo el publico', 'comentarios': [{'turista_id': 6, 'texto': 'Esta bueno el lugar pero le faltan cosas'}], 'visitas': 132}\n"
     ]
    }
   ],
   "source": [
    "lugares_for_dao.Obtener_lugar_por_visitas_mayor(21)"
   ]
  },
  {
   "cell_type": "code",
   "execution_count": 9,
   "metadata": {},
   "outputs": [
    {
     "name": "stdout",
     "output_type": "stream",
     "text": [
      "{'_id': 1, 'nombre': 'Estación 2', 'ubicacion': 'Chilecito', 'descripción': 'Cable Carril', 'horario': 'Abierto a todo el publico', 'comentarios': [{'turista_id': 3, 'texto': 'Horrible lugar'}, {'turista_id': 2, 'texto': 'Hermoso lugar'}, {'turista_id': 4, 'texto': 'lindo lugar, pero no tan lindo'}, {'turista_id': 5, 'texto': 'bellisimo lugar'}], 'visitas': 2}\n"
     ]
    }
   ],
   "source": [
    "lugares_for_dao.Obtener_lugar_por_visitas_menor(21)"
   ]
  },
  {
   "cell_type": "code",
   "execution_count": 13,
   "metadata": {},
   "outputs": [
    {
     "name": "stdout",
     "output_type": "stream",
     "text": [
      "{'_id': 2, 'nombre': 'Cristo de Portezuelo', 'ubicacion': 'Chilecito', 'descripción': 'Estatua del Cristo', 'horario': 'Abierto a todo el publico', 'comentarios': [{'turista_id': 1, 'texto': 'Hermoso lugar'}], 'visitas': 23}\n"
     ]
    }
   ],
   "source": [
    "lugares_for_dao.obtener_lugar_por_nombre(\"Cristo de Portezuelo\")"
   ]
  },
  {
   "cell_type": "code",
   "execution_count": 14,
   "metadata": {},
   "outputs": [
    {
     "name": "stdout",
     "output_type": "stream",
     "text": [
      "{'_id': 1, 'nombre': 'Estación 2', 'ubicacion': 'Chilecito', 'descripción': 'Cable Carril', 'horario': 'Abierto a todo el publico', 'comentarios': [{'turista_id': 3, 'texto': 'Horrible lugar'}, {'turista_id': 2, 'texto': 'Hermoso lugar'}, {'turista_id': 4, 'texto': 'lindo lugar, pero no tan lindo'}], 'visitas': 2}\n",
      "{'_id': 2, 'nombre': 'Cristo de Portezuelo', 'ubicacion': 'Chilecito', 'descripción': 'Estatua del Cristo', 'horario': 'Abierto a todo el publico', 'comentarios': [{'turista_id': 1, 'texto': 'Hermoso lugar'}], 'visitas': 23}\n"
     ]
    }
   ],
   "source": [
    "lugares_for_dao.obtener_lugar_por_ubicacion(\"Chilecito\")"
   ]
  }
 ],
 "metadata": {
  "kernelspec": {
   "display_name": "Python 3",
   "language": "python",
   "name": "python3"
  },
  "language_info": {
   "codemirror_mode": {
    "name": "ipython",
    "version": 3
   },
   "file_extension": ".py",
   "mimetype": "text/x-python",
   "name": "python",
   "nbconvert_exporter": "python",
   "pygments_lexer": "ipython3",
   "version": "3.12.5"
  }
 },
 "nbformat": 4,
 "nbformat_minor": 2
}
