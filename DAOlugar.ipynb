{
 "cells": [
  {
   "cell_type": "code",
   "execution_count": 1,
   "metadata": {},
   "outputs": [
    {
     "name": "stdout",
     "output_type": "stream",
     "text": [
      "joya\n"
     ]
    }
   ],
   "source": [
    "from lugaresTuristicos import *\n",
    "print(\"joya\")"
   ]
  },
  {
   "cell_type": "code",
   "execution_count": 13,
   "metadata": {},
   "outputs": [
    {
     "name": "stdout",
     "output_type": "stream",
     "text": [
      "Lugar creado\n"
     ]
    }
   ],
   "source": [
    "#parametros de lugar\n",
    "#id, nombre, ubicacion, descripción, horario, comentarios\n",
    "lugares_for_dao.crear_lugar(2, \"Estacion\", \"Chilecito\", \"Cable Carril\", \"Abierto todo el dia\", [1, \"Bonito lugar\"])"
   ]
  },
  {
   "cell_type": "code",
   "execution_count": 14,
   "metadata": {},
   "outputs": [
    {
     "name": "stdout",
     "output_type": "stream",
     "text": [
      "{'_id': 1, 'nombre': 'Cristo', 'ubicacion': 'La Rioja', 'comentarios': [{'turista_id': 1, 'texto': 'Hermoso lugar'}]}\n",
      "{'_id': 2, 'nombre': 'Estacion', 'ubicacion': 'Chilecito', 'descripción': 'Cable Carril', 'horario': 'Abierto todo el dia', 'comentarios': [1, 'Bonito lugar']}\n"
     ]
    }
   ],
   "source": [
    "lugares_for_dao.obtener_todos_los_lugares()"
   ]
  },
  {
   "cell_type": "code",
   "execution_count": 8,
   "metadata": {},
   "outputs": [],
   "source": [
    "lugares_for_dao.obtener_lugar_por_nombre(\"Cristo\")"
   ]
  },
  {
   "cell_type": "code",
   "execution_count": 9,
   "metadata": {},
   "outputs": [],
   "source": [
    "lugares_for_dao.obtener_lugar_por_ubicacion(\"Chilecito\")"
   ]
  },
  {
   "cell_type": "code",
   "execution_count": 10,
   "metadata": {},
   "outputs": [],
   "source": [
    "lugares_for_dao.obtener_lugar_por_descripción(\"Sin descripcion\")"
   ]
  }
 ],
 "metadata": {
  "kernelspec": {
   "display_name": "Python 3",
   "language": "python",
   "name": "python3"
  },
  "language_info": {
   "codemirror_mode": {
    "name": "ipython",
    "version": 3
   },
   "file_extension": ".py",
   "mimetype": "text/x-python",
   "name": "python",
   "nbconvert_exporter": "python",
   "pygments_lexer": "ipython3",
   "version": "3.12.5"
  }
 },
 "nbformat": 4,
 "nbformat_minor": 2
}
