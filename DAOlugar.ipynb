{
 "cells": [
  {
   "cell_type": "code",
   "execution_count": 2,
   "metadata": {},
   "outputs": [
    {
     "name": "stdout",
     "output_type": "stream",
     "text": [
      "joya\n"
     ]
    }
   ],
   "source": [
    "from lugaresTuristicos import lugares_for_dao\n",
    "from DAO import TuristaDAO\n",
    "print(\"joya\")"
   ]
  },
  {
   "cell_type": "code",
   "execution_count": 14,
   "metadata": {},
   "outputs": [
    {
     "name": "stdout",
     "output_type": "stream",
     "text": [
      "Lugar creado\n"
     ]
    }
   ],
   "source": [
    "#id, nombre, ubicacion, descripción, horario, comentarios[], visitas\n",
    "lugares_for_dao.crear_lugar(2, \"Cristo de Portezuelo\", \"Chilecito\", \"Estatua del Cristo\", \"Abierto a todo el publico\", [], 23)"
   ]
  },
  {
   "cell_type": "code",
   "execution_count": 16,
   "metadata": {},
   "outputs": [
    {
     "name": "stdout",
     "output_type": "stream",
     "text": [
      "{'_id': 1, 'nombre': 'Estación 2', 'ubicacion': 'Chilecito', 'descripción': 'Cable Carril', 'horario': 'Abierto a todo el publico', 'comentarios': [{'turista_id': 3, 'texto': 'Horrible lugar'}, {'turista_id': 2, 'texto': 'Hermoso lugar'}], 'visitas': 2}\n",
      "{'_id': 2, 'nombre': 'Cristo de Portezuelo', 'ubicacion': 'Chilecito', 'descripción': 'Estatua del Cristo', 'horario': 'Abierto a todo el publico', 'comentarios': [{'turista_id': 1, 'texto': 'Hermoso lugar'}], 'visitas': 23}\n"
     ]
    }
   ],
   "source": [
    "lugares_for_dao.obtener_todos_los_lugares()"
   ]
  },
  {
   "cell_type": "code",
   "execution_count": 18,
   "metadata": {},
   "outputs": [
    {
     "name": "stdout",
     "output_type": "stream",
     "text": [
      "Comentario: 'Hermoso lugar' - Sentimiento (Palabras clave): Normal - Sentimiento (Transformers): 5 stars\n"
     ]
    }
   ],
   "source": [
    "lugares_for_dao.obtener_Estrellas_Comentarios(2)"
   ]
  },
  {
   "cell_type": "code",
   "execution_count": 7,
   "metadata": {},
   "outputs": [
    {
     "name": "stdout",
     "output_type": "stream",
     "text": [
      "Lugar con ID 2 eliminado.\n"
     ]
    }
   ],
   "source": [
    "lugares_for_dao.Eliminar_Lugar_por_id(2)"
   ]
  },
  {
   "cell_type": "code",
   "execution_count": null,
   "metadata": {},
   "outputs": [],
   "source": [
    "lugares_for_dao.obtener_lugar_por_nombre(\"Cristo\")"
   ]
  },
  {
   "cell_type": "code",
   "execution_count": null,
   "metadata": {},
   "outputs": [],
   "source": [
    "lugares_for_dao.obtener_lugar_por_ubicacion(\"Chilecito\")"
   ]
  },
  {
   "cell_type": "code",
   "execution_count": null,
   "metadata": {},
   "outputs": [],
   "source": [
    "lugares_for_dao.obtener_lugar_por_descripción(\"Casinito\")"
   ]
  },
  {
   "cell_type": "code",
   "execution_count": 18,
   "metadata": {},
   "outputs": [],
   "source": [
    "lugares_for_dao.obtener_lugar_por_visitas(5)"
   ]
  },
  {
   "cell_type": "code",
   "execution_count": 4,
   "metadata": {},
   "outputs": [],
   "source": [
    "lugares_for_dao.Obtener_lugar_por_visitas_mayor(2)"
   ]
  }
 ],
 "metadata": {
  "kernelspec": {
   "display_name": "Python 3",
   "language": "python",
   "name": "python3"
  },
  "language_info": {
   "codemirror_mode": {
    "name": "ipython",
    "version": 3
   },
   "file_extension": ".py",
   "mimetype": "text/x-python",
   "name": "python",
   "nbconvert_exporter": "python",
   "pygments_lexer": "ipython3",
   "version": "3.12.5"
  }
 },
 "nbformat": 4,
 "nbformat_minor": 2
}
