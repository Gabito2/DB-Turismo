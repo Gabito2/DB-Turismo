{
 "cells": [
  {
   "cell_type": "code",
   "execution_count": 2,
   "metadata": {},
   "outputs": [
    {
     "name": "stdout",
     "output_type": "stream",
     "text": [
      "joya\n"
     ]
    }
   ],
   "source": [
    "from lugaresTuristicos import lugares_for_dao\n",
    "from DAO import TuristaDAO\n",
    "print(\"joya\")"
   ]
  },
  {
   "cell_type": "code",
   "execution_count": 14,
   "metadata": {},
   "outputs": [
    {
     "name": "stdout",
     "output_type": "stream",
     "text": [
      "Lugar creado\n"
     ]
    }
   ],
   "source": [
    "#id, nombre, ubicacion, descripción, horario, comentarios[], visitas\n",
    "lugares_for_dao.crear_lugar(2, \"Cristo de Portezuelo\", \"Chilecito\", \"Estatua del Cristo\", \"Abierto a todo el publico\", [], 23)"
   ]
  },
  {
   "cell_type": "code",
   "execution_count": 18,
   "metadata": {},
   "outputs": [
    {
     "name": "stdout",
     "output_type": "stream",
     "text": [
      "{'_id': 1, 'nombre': 'Estación 2', 'ubicacion': 'Chilecito', 'descripción': 'Cable Carril', 'horario': 'Abierto a todo el publico', 'comentarios': [{'turista_id': 3, 'texto': 'Horrible lugar'}, {'turista_id': 2, 'texto': 'Hermoso lugar'}, {'turista_id': 4, 'texto': 'lindo lugar, pero no tan lindo'}, {'turista_id': 5, 'texto': 'lindo lugar'}], 'visitas': 2}\n",
      "{'_id': 2, 'nombre': 'Cristo de Portezuelo', 'ubicacion': 'Chilecito', 'descripción': 'Estatua del Cristo', 'horario': 'Abierto a todo el publico', 'comentarios': [{'turista_id': 1, 'texto': 'Hermoso lugar'}], 'visitas': 23}\n"
     ]
    }
   ],
   "source": [
    "lugares_for_dao.obtener_todos_los_lugares()"
   ]
  },
  {
   "cell_type": "code",
   "execution_count": 19,
   "metadata": {},
   "outputs": [
    {
     "name": "stdout",
     "output_type": "stream",
     "text": [
      "Comentario: 'Horrible lugar' - Sentimiento (Transformers): 1 star\n",
      "Comentario: 'Hermoso lugar' - Sentimiento (Transformers): 5 stars\n",
      "Comentario: 'lindo lugar, pero no tan lindo' - Sentimiento (Transformers): 3 stars\n",
      "Comentario: 'lindo lugar' - Sentimiento (Transformers): 5 stars\n"
     ]
    }
   ],
   "source": [
    "lugares_for_dao.obtener_Estrellas_Comentarios(1)"
   ]
  },
  {
   "cell_type": "code",
   "execution_count": 7,
   "metadata": {},
   "outputs": [
    {
     "name": "stdout",
     "output_type": "stream",
     "text": [
      "Lugar con ID 2 eliminado.\n"
     ]
    }
   ],
   "source": [
    "lugares_for_dao.Eliminar_Lugar_por_id(2)"
   ]
  },
  {
   "cell_type": "code",
   "execution_count": 10,
   "metadata": {},
   "outputs": [
    {
     "name": "stdout",
     "output_type": "stream",
     "text": [
      "{'_id': 2, 'nombre': 'Cristo de Portezuelo', 'ubicacion': 'Chilecito', 'descripción': 'Estatua del Cristo', 'horario': 'Abierto a todo el publico', 'comentarios': [{'turista_id': 1, 'texto': 'Hermoso lugar'}], 'visitas': 23}\n"
     ]
    }
   ],
   "source": [
    "lugares_for_dao.Obtener_lugar_por_visitas_mayor(21)"
   ]
  },
  {
   "cell_type": "code",
   "execution_count": 11,
   "metadata": {},
   "outputs": [
    {
     "name": "stdout",
     "output_type": "stream",
     "text": [
      "{'_id': 1, 'nombre': 'Estación 2', 'ubicacion': 'Chilecito', 'descripción': 'Cable Carril', 'horario': 'Abierto a todo el publico', 'comentarios': [{'turista_id': 3, 'texto': 'Horrible lugar'}, {'turista_id': 2, 'texto': 'Hermoso lugar'}, {'turista_id': 4, 'texto': 'lindo lugar, pero no tan lindo'}], 'visitas': 2}\n"
     ]
    }
   ],
   "source": [
    "lugares_for_dao.Obtener_lugar_por_visitas_menor(21)"
   ]
  },
  {
   "cell_type": "code",
   "execution_count": 13,
   "metadata": {},
   "outputs": [
    {
     "name": "stdout",
     "output_type": "stream",
     "text": [
      "{'_id': 2, 'nombre': 'Cristo de Portezuelo', 'ubicacion': 'Chilecito', 'descripción': 'Estatua del Cristo', 'horario': 'Abierto a todo el publico', 'comentarios': [{'turista_id': 1, 'texto': 'Hermoso lugar'}], 'visitas': 23}\n"
     ]
    }
   ],
   "source": [
    "lugares_for_dao.obtener_lugar_por_nombre(\"Cristo de Portezuelo\")"
   ]
  },
  {
   "cell_type": "code",
   "execution_count": 14,
   "metadata": {},
   "outputs": [
    {
     "name": "stdout",
     "output_type": "stream",
     "text": [
      "{'_id': 1, 'nombre': 'Estación 2', 'ubicacion': 'Chilecito', 'descripción': 'Cable Carril', 'horario': 'Abierto a todo el publico', 'comentarios': [{'turista_id': 3, 'texto': 'Horrible lugar'}, {'turista_id': 2, 'texto': 'Hermoso lugar'}, {'turista_id': 4, 'texto': 'lindo lugar, pero no tan lindo'}], 'visitas': 2}\n",
      "{'_id': 2, 'nombre': 'Cristo de Portezuelo', 'ubicacion': 'Chilecito', 'descripción': 'Estatua del Cristo', 'horario': 'Abierto a todo el publico', 'comentarios': [{'turista_id': 1, 'texto': 'Hermoso lugar'}], 'visitas': 23}\n"
     ]
    }
   ],
   "source": [
    "lugares_for_dao.obtener_lugar_por_ubicacion(\"Chilecito\")"
   ]
  },
  {
   "cell_type": "code",
   "execution_count": 17,
   "metadata": {},
   "outputs": [
    {
     "ename": "AttributeError",
     "evalue": "type object 'lugares_for_dao' has no attribute 'lugar_con_mas_comentarios_positivos'",
     "output_type": "error",
     "traceback": [
      "\u001b[1;31m---------------------------------------------------------------------------\u001b[0m",
      "\u001b[1;31mAttributeError\u001b[0m                            Traceback (most recent call last)",
      "Cell \u001b[1;32mIn[17], line 1\u001b[0m\n\u001b[1;32m----> 1\u001b[0m \u001b[43mlugares_for_dao\u001b[49m\u001b[38;5;241;43m.\u001b[39;49m\u001b[43mlugar_con_mas_comentarios_positivos\u001b[49m()\n",
      "\u001b[1;31mAttributeError\u001b[0m: type object 'lugares_for_dao' has no attribute 'lugar_con_mas_comentarios_positivos'"
     ]
    }
   ],
   "source": [
    "lugares_for_dao.lugar_con_mas_comentarios_positivos()"
   ]
  }
 ],
 "metadata": {
  "kernelspec": {
   "display_name": "Python 3",
   "language": "python",
   "name": "python3"
  },
  "language_info": {
   "codemirror_mode": {
    "name": "ipython",
    "version": 3
   },
   "file_extension": ".py",
   "mimetype": "text/x-python",
   "name": "python",
   "nbconvert_exporter": "python",
   "pygments_lexer": "ipython3",
   "version": "3.12.5"
  }
 },
 "nbformat": 4,
 "nbformat_minor": 2
}
